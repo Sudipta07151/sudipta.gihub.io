{
 "cells": [
  {
   "cell_type": "markdown",
   "id": "a5b1ac5b",
   "metadata": {},
   "source": [
    "# LINEAR REGRESSION\n",
    "# APPLYING TRANSFORMATION TO MAKE TARGET VARIABLE BE MORE NORMALLY DISTRIBUTED\n",
    "# APPLYING INVERSE TRANSFORMATION"
   ]
  },
  {
   "cell_type": "code",
   "execution_count": 7,
   "id": "a2563982",
   "metadata": {},
   "outputs": [],
   "source": [
    "import numpy as np\n",
    "import pandas as pd\n",
    "import matplotlib.pyplot as plt\n",
    "\n",
    "import warnings\n",
    "warnings.simplefilter(\"ignore\")"
   ]
  },
  {
   "cell_type": "code",
   "execution_count": 13,
   "id": "aa0a5122",
   "metadata": {},
   "outputs": [],
   "source": [
    "#LOAD IN DATA\n",
    "\n",
    "from sklearn.datasets import load_boston\n",
    "boston_data=load_boston()"
   ]
  },
  {
   "cell_type": "code",
   "execution_count": 67,
   "id": "a9471ab5",
   "metadata": {},
   "outputs": [],
   "source": [
    "data = boston_data.data\n",
    "target = boston.target\n",
    "names = boston.feature_names"
   ]
  },
  {
   "cell_type": "code",
   "execution_count": 68,
   "id": "8efe2236",
   "metadata": {},
   "outputs": [],
   "source": [
    "target =target.reshape(target.shape[0], -1)"
   ]
  },
  {
   "cell_type": "code",
   "execution_count": 76,
   "id": "81a3484a",
   "metadata": {},
   "outputs": [],
   "source": [
    "#MERGE TARGET AND PREDICTABLE TO 1 ARRAY\n",
    "\n",
    "data_all = np.concatenate([data, target], axis=1)\n",
    "names_all = np.concatenate([names, np.array(['MEDV'])], axis=0)"
   ]
  },
  {
   "cell_type": "code",
   "execution_count": 95,
   "id": "4178c77f",
   "metadata": {},
   "outputs": [],
   "source": [
    "#CONVERT TO DATA FRAME\n",
    "boston=pd.DataFrame(data=data_all, columns=names_all)"
   ]
  },
  {
   "cell_type": "markdown",
   "id": "faa37734",
   "metadata": {},
   "source": [
    "# WE ARE TRYING TO PREDICT THE \"MEDV\" COLUMN [IT IS THE TARGET VARIABLE]"
   ]
  },
  {
   "cell_type": "code",
   "execution_count": 94,
   "id": "bc744260",
   "metadata": {},
   "outputs": [
    {
     "data": {
      "text/html": [
       "<div>\n",
       "<style scoped>\n",
       "    .dataframe tbody tr th:only-of-type {\n",
       "        vertical-align: middle;\n",
       "    }\n",
       "\n",
       "    .dataframe tbody tr th {\n",
       "        vertical-align: top;\n",
       "    }\n",
       "\n",
       "    .dataframe thead th {\n",
       "        text-align: right;\n",
       "    }\n",
       "</style>\n",
       "<table border=\"1\" class=\"dataframe\">\n",
       "  <thead>\n",
       "    <tr style=\"text-align: right;\">\n",
       "      <th></th>\n",
       "      <th>CRIM</th>\n",
       "      <th>ZN</th>\n",
       "      <th>INDUS</th>\n",
       "      <th>CHAS</th>\n",
       "      <th>NOX</th>\n",
       "      <th>RM</th>\n",
       "      <th>AGE</th>\n",
       "      <th>DIS</th>\n",
       "      <th>RAD</th>\n",
       "      <th>TAX</th>\n",
       "      <th>PTRATIO</th>\n",
       "      <th>B</th>\n",
       "      <th>LSTAT</th>\n",
       "      <th>MEDV</th>\n",
       "    </tr>\n",
       "  </thead>\n",
       "  <tbody>\n",
       "    <tr>\n",
       "      <th>0</th>\n",
       "      <td>0.00632</td>\n",
       "      <td>18.0</td>\n",
       "      <td>2.31</td>\n",
       "      <td>0.0</td>\n",
       "      <td>0.538</td>\n",
       "      <td>6.575</td>\n",
       "      <td>65.2</td>\n",
       "      <td>4.0900</td>\n",
       "      <td>1.0</td>\n",
       "      <td>296.0</td>\n",
       "      <td>15.3</td>\n",
       "      <td>396.90</td>\n",
       "      <td>4.98</td>\n",
       "      <td>24.0</td>\n",
       "    </tr>\n",
       "    <tr>\n",
       "      <th>1</th>\n",
       "      <td>0.02731</td>\n",
       "      <td>0.0</td>\n",
       "      <td>7.07</td>\n",
       "      <td>0.0</td>\n",
       "      <td>0.469</td>\n",
       "      <td>6.421</td>\n",
       "      <td>78.9</td>\n",
       "      <td>4.9671</td>\n",
       "      <td>2.0</td>\n",
       "      <td>242.0</td>\n",
       "      <td>17.8</td>\n",
       "      <td>396.90</td>\n",
       "      <td>9.14</td>\n",
       "      <td>21.6</td>\n",
       "    </tr>\n",
       "    <tr>\n",
       "      <th>2</th>\n",
       "      <td>0.02729</td>\n",
       "      <td>0.0</td>\n",
       "      <td>7.07</td>\n",
       "      <td>0.0</td>\n",
       "      <td>0.469</td>\n",
       "      <td>7.185</td>\n",
       "      <td>61.1</td>\n",
       "      <td>4.9671</td>\n",
       "      <td>2.0</td>\n",
       "      <td>242.0</td>\n",
       "      <td>17.8</td>\n",
       "      <td>392.83</td>\n",
       "      <td>4.03</td>\n",
       "      <td>34.7</td>\n",
       "    </tr>\n",
       "    <tr>\n",
       "      <th>3</th>\n",
       "      <td>0.03237</td>\n",
       "      <td>0.0</td>\n",
       "      <td>2.18</td>\n",
       "      <td>0.0</td>\n",
       "      <td>0.458</td>\n",
       "      <td>6.998</td>\n",
       "      <td>45.8</td>\n",
       "      <td>6.0622</td>\n",
       "      <td>3.0</td>\n",
       "      <td>222.0</td>\n",
       "      <td>18.7</td>\n",
       "      <td>394.63</td>\n",
       "      <td>2.94</td>\n",
       "      <td>33.4</td>\n",
       "    </tr>\n",
       "    <tr>\n",
       "      <th>4</th>\n",
       "      <td>0.06905</td>\n",
       "      <td>0.0</td>\n",
       "      <td>2.18</td>\n",
       "      <td>0.0</td>\n",
       "      <td>0.458</td>\n",
       "      <td>7.147</td>\n",
       "      <td>54.2</td>\n",
       "      <td>6.0622</td>\n",
       "      <td>3.0</td>\n",
       "      <td>222.0</td>\n",
       "      <td>18.7</td>\n",
       "      <td>396.90</td>\n",
       "      <td>5.33</td>\n",
       "      <td>36.2</td>\n",
       "    </tr>\n",
       "    <tr>\n",
       "      <th>5</th>\n",
       "      <td>0.02985</td>\n",
       "      <td>0.0</td>\n",
       "      <td>2.18</td>\n",
       "      <td>0.0</td>\n",
       "      <td>0.458</td>\n",
       "      <td>6.430</td>\n",
       "      <td>58.7</td>\n",
       "      <td>6.0622</td>\n",
       "      <td>3.0</td>\n",
       "      <td>222.0</td>\n",
       "      <td>18.7</td>\n",
       "      <td>394.12</td>\n",
       "      <td>5.21</td>\n",
       "      <td>28.7</td>\n",
       "    </tr>\n",
       "    <tr>\n",
       "      <th>6</th>\n",
       "      <td>0.08829</td>\n",
       "      <td>12.5</td>\n",
       "      <td>7.87</td>\n",
       "      <td>0.0</td>\n",
       "      <td>0.524</td>\n",
       "      <td>6.012</td>\n",
       "      <td>66.6</td>\n",
       "      <td>5.5605</td>\n",
       "      <td>5.0</td>\n",
       "      <td>311.0</td>\n",
       "      <td>15.2</td>\n",
       "      <td>395.60</td>\n",
       "      <td>12.43</td>\n",
       "      <td>22.9</td>\n",
       "    </tr>\n",
       "    <tr>\n",
       "      <th>7</th>\n",
       "      <td>0.14455</td>\n",
       "      <td>12.5</td>\n",
       "      <td>7.87</td>\n",
       "      <td>0.0</td>\n",
       "      <td>0.524</td>\n",
       "      <td>6.172</td>\n",
       "      <td>96.1</td>\n",
       "      <td>5.9505</td>\n",
       "      <td>5.0</td>\n",
       "      <td>311.0</td>\n",
       "      <td>15.2</td>\n",
       "      <td>396.90</td>\n",
       "      <td>19.15</td>\n",
       "      <td>27.1</td>\n",
       "    </tr>\n",
       "    <tr>\n",
       "      <th>8</th>\n",
       "      <td>0.21124</td>\n",
       "      <td>12.5</td>\n",
       "      <td>7.87</td>\n",
       "      <td>0.0</td>\n",
       "      <td>0.524</td>\n",
       "      <td>5.631</td>\n",
       "      <td>100.0</td>\n",
       "      <td>6.0821</td>\n",
       "      <td>5.0</td>\n",
       "      <td>311.0</td>\n",
       "      <td>15.2</td>\n",
       "      <td>386.63</td>\n",
       "      <td>29.93</td>\n",
       "      <td>16.5</td>\n",
       "    </tr>\n",
       "    <tr>\n",
       "      <th>9</th>\n",
       "      <td>0.17004</td>\n",
       "      <td>12.5</td>\n",
       "      <td>7.87</td>\n",
       "      <td>0.0</td>\n",
       "      <td>0.524</td>\n",
       "      <td>6.004</td>\n",
       "      <td>85.9</td>\n",
       "      <td>6.5921</td>\n",
       "      <td>5.0</td>\n",
       "      <td>311.0</td>\n",
       "      <td>15.2</td>\n",
       "      <td>386.71</td>\n",
       "      <td>17.10</td>\n",
       "      <td>18.9</td>\n",
       "    </tr>\n",
       "  </tbody>\n",
       "</table>\n",
       "</div>"
      ],
      "text/plain": [
       "      CRIM    ZN  INDUS  CHAS    NOX     RM    AGE     DIS  RAD    TAX  \\\n",
       "0  0.00632  18.0   2.31   0.0  0.538  6.575   65.2  4.0900  1.0  296.0   \n",
       "1  0.02731   0.0   7.07   0.0  0.469  6.421   78.9  4.9671  2.0  242.0   \n",
       "2  0.02729   0.0   7.07   0.0  0.469  7.185   61.1  4.9671  2.0  242.0   \n",
       "3  0.03237   0.0   2.18   0.0  0.458  6.998   45.8  6.0622  3.0  222.0   \n",
       "4  0.06905   0.0   2.18   0.0  0.458  7.147   54.2  6.0622  3.0  222.0   \n",
       "5  0.02985   0.0   2.18   0.0  0.458  6.430   58.7  6.0622  3.0  222.0   \n",
       "6  0.08829  12.5   7.87   0.0  0.524  6.012   66.6  5.5605  5.0  311.0   \n",
       "7  0.14455  12.5   7.87   0.0  0.524  6.172   96.1  5.9505  5.0  311.0   \n",
       "8  0.21124  12.5   7.87   0.0  0.524  5.631  100.0  6.0821  5.0  311.0   \n",
       "9  0.17004  12.5   7.87   0.0  0.524  6.004   85.9  6.5921  5.0  311.0   \n",
       "\n",
       "   PTRATIO       B  LSTAT  MEDV  \n",
       "0     15.3  396.90   4.98  24.0  \n",
       "1     17.8  396.90   9.14  21.6  \n",
       "2     17.8  392.83   4.03  34.7  \n",
       "3     18.7  394.63   2.94  33.4  \n",
       "4     18.7  396.90   5.33  36.2  \n",
       "5     18.7  394.12   5.21  28.7  \n",
       "6     15.2  395.60  12.43  22.9  \n",
       "7     15.2  396.90  19.15  27.1  \n",
       "8     15.2  386.63  29.93  16.5  \n",
       "9     15.2  386.71  17.10  18.9  "
      ]
     },
     "execution_count": 94,
     "metadata": {},
     "output_type": "execute_result"
    }
   ],
   "source": [
    "boston.head(10)"
   ]
  },
  {
   "cell_type": "markdown",
   "id": "95ba6858",
   "metadata": {},
   "source": [
    "# DETERMINING NORMALITY\n"
   ]
  },
  {
   "cell_type": "markdown",
   "id": "e6aaeae9",
   "metadata": {},
   "source": [
    "<h4>Making our target variabel normally distributed would lead to better results</h4>\n",
    "<br/>\n",
    "<h4>If our target variable is not normally distributed we can apply a transformation to it and then fot our regression line</h4>    \n",
    "<br/>\n",
    "<h5>\n",
    "We can see if a target is normally distributed by two ways\n",
    "</h5>\n",
    "<ul>\n",
    "<li>Visually</li>\n",
    "<li>Using a statistical test</li>\n",
    "</ul>\n",
    "\n",
    "<h4>TARGET VARIABLES MAY OR MAY NOT BE NORMALLY DISTRIBUTES</h4>\n",
    "<h4>ERRORS NEED TO BE NORMALLY DISTRIBUTED</h4>"
   ]
  },
  {
   "cell_type": "code",
   "execution_count": 96,
   "id": "5efc3dc4",
   "metadata": {},
   "outputs": [
    {
     "data": {
      "text/plain": [
       "(array([ 21.,  55.,  82., 154.,  84.,  41.,  30.,   8.,  10.,  21.]),\n",
       " array([ 5. ,  9.5, 14. , 18.5, 23. , 27.5, 32. , 36.5, 41. , 45.5, 50. ]),\n",
       " <BarContainer object of 10 artists>)"
      ]
     },
     "execution_count": 96,
     "metadata": {},
     "output_type": "execute_result"
    },
    {
     "data": {
      "image/png": "[encoded data removed]",
      "text/plain": [
       "<Figure size 432x288 with 1 Axes>"
      ]
     },
     "metadata": {
      "needs_background": "light"
     },
     "output_type": "display_data"
    }
   ],
   "source": [
    "#VISUAL REPRESENTATION\n",
    "#PLOT A HISTOGRAM\n",
    "\n",
    "plt.hist(boston.MEDV)"
   ]
  },
  {
   "cell_type": "code",
   "execution_count": 99,
   "id": "edf82c1f",
   "metadata": {},
   "outputs": [],
   "source": [
    "#STATISTICAL TEST\n",
    "#This test outputs p-value\n",
    "#The higher the p-value , the closer the distribution is to normal\n",
    "\n",
    "from scipy.stats.mstats import normaltest"
   ]
  },
  {
   "cell_type": "code",
   "execution_count": 106,
   "id": "99e330c6",
   "metadata": {},
   "outputs": [
    {
     "data": {
      "text/plain": [
       "NormaltestResult(statistic=90.9746873700967, pvalue=1.7583188871696095e-20)"
      ]
     },
     "execution_count": 106,
     "metadata": {},
     "output_type": "execute_result"
    }
   ],
   "source": [
    "normaltest(boston.MEDV.values)"
   ]
  },
  {
   "cell_type": "markdown",
   "id": "b593385d",
   "metadata": {},
   "source": [
    "<h4>LINEAR REGRESSION ASSUMES NORMALLY DISTRIBUTED RESIDUALS WHICH CAN BE AIDED BY TRANSFORMING y variables</h4>\n",
    "\n",
    "<h5>FEW METHODS ARE</h5>\n",
    "<ul>\n",
    "<li>Log</li>\n",
    "<li>Square Root</li>\n",
    "<li>Box Cox</li>\n",
    "</ul>"
   ]
  },
  {
   "cell_type": "code",
   "execution_count": 121,
   "id": "a1505774",
   "metadata": {},
   "outputs": [],
   "source": [
    "#LOG TRANSFORMATION"
   ]
  },
  {
   "cell_type": "code",
   "execution_count": 109,
   "id": "a9e5857f",
   "metadata": {},
   "outputs": [
    {
     "data": {
      "image/png": "[encoded data removed]",
      "text/plain": [
       "<Figure size 432x288 with 1 Axes>"
      ]
     },
     "metadata": {
      "needs_background": "light"
     },
     "output_type": "display_data"
    }
   ],
   "source": [
    "data=np.exp(np.random.normal(size=1000))\n",
    "plt.hist(data)\n",
    "plt.show()"
   ]
  },
  {
   "cell_type": "code",
   "execution_count": 110,
   "id": "6091a32c",
   "metadata": {},
   "outputs": [
    {
     "data": {
      "text/plain": [
       "(array([ 14.,  49.,  86., 197., 215., 198., 122.,  80.,  28.,  11.]),\n",
       " array([-2.63363162, -2.0853518 , -1.53707199, -0.98879218, -0.44051237,\n",
       "         0.10776744,  0.65604725,  1.20432706,  1.75260687,  2.30088668,\n",
       "         2.84916649]),\n",
       " <BarContainer object of 10 artists>)"
      ]
     },
     "execution_count": 110,
     "metadata": {},
     "output_type": "execute_result"
    },
    {
     "data": {
      "image/png": "[encoded data removed]",
      "text/plain": [
       "<Figure size 432x288 with 1 Axes>"
      ]
     },
     "metadata": {
      "needs_background": "light"
     },
     "output_type": "display_data"
    }
   ],
   "source": [
    "plt.hist(np.log(data))"
   ]
  },
  {
   "cell_type": "code",
   "execution_count": 118,
   "id": "fafb29a8",
   "metadata": {},
   "outputs": [
    {
     "data": {
      "text/plain": [
       "<AxesSubplot:>"
      ]
     },
     "execution_count": 118,
     "metadata": {},
     "output_type": "execute_result"
    },
    {
     "data": {
      "image/png": "[encoded data removed]",
      "text/plain": [
       "<Figure size 432x288 with 1 Axes>"
      ]
     },
     "metadata": {
      "needs_background": "light"
     },
     "output_type": "display_data"
    }
   ],
   "source": [
    "#APPLYING log transformation TO OUR TARGET COLUMN [\"MEDV\"]\n",
    "\n",
    "log_medv=np.log(boston.MEDV)\n",
    "log_medv.hist()"
   ]
  },
  {
   "cell_type": "code",
   "execution_count": 119,
   "id": "e9479840",
   "metadata": {},
   "outputs": [
    {
     "data": {
      "text/plain": [
       "NormaltestResult(statistic=17.21801696640697, pvalue=0.00018245472768345307)"
      ]
     },
     "execution_count": 119,
     "metadata": {},
     "output_type": "execute_result"
    }
   ],
   "source": [
    "normaltest(log_medv)"
   ]
  },
  {
   "cell_type": "code",
   "execution_count": 120,
   "id": "da6334f4",
   "metadata": {},
   "outputs": [],
   "source": [
    "#SQUARE ROOT TRANSFORMATION "
   ]
  },
  {
   "cell_type": "code",
   "execution_count": 123,
   "id": "be42d901",
   "metadata": {},
   "outputs": [
    {
     "data": {
      "image/png": "[encoded data removed]",
      "text/plain": [
       "<Figure size 432x288 with 1 Axes>"
      ]
     },
     "metadata": {
      "needs_background": "light"
     },
     "output_type": "display_data"
    }
   ],
   "source": [
    "data = np.square(np.random.normal(loc=5, size=1000))\n",
    "plt.hist(data)\n",
    "plt.show()"
   ]
  },
  {
   "cell_type": "code",
   "execution_count": 124,
   "id": "90adf18c",
   "metadata": {},
   "outputs": [
    {
     "data": {
      "text/plain": [
       "(array([  7.,  13.,  64., 147., 248., 228., 171.,  91.,  26.,   5.]),\n",
       " array([1.64461409, 2.28674335, 2.9288726 , 3.57100186, 4.21313112,\n",
       "        4.85526038, 5.49738964, 6.1395189 , 6.78164816, 7.42377742,\n",
       "        8.06590668]),\n",
       " <BarContainer object of 10 artists>)"
      ]
     },
     "execution_count": 124,
     "metadata": {},
     "output_type": "execute_result"
    },
    {
     "data": {
      "image/png": "[encoded data removed]",
      "text/plain": [
       "<Figure size 432x288 with 1 Axes>"
      ]
     },
     "metadata": {
      "needs_background": "light"
     },
     "output_type": "display_data"
    }
   ],
   "source": [
    "plt.hist(np.sqrt(data))"
   ]
  },
  {
   "cell_type": "code",
   "execution_count": 136,
   "id": "75130651",
   "metadata": {},
   "outputs": [
    {
     "data": {
      "text/plain": [
       "<AxesSubplot:>"
      ]
     },
     "execution_count": 136,
     "metadata": {},
     "output_type": "execute_result"
    },
    {
     "data": {
      "image/png": "[encoded data removed]",
      "text/plain": [
       "<Figure size 432x288 with 1 Axes>"
      ]
     },
     "metadata": {
      "needs_background": "light"
     },
     "output_type": "display_data"
    }
   ],
   "source": [
    "#apply to our target \n",
    "\n",
    "sqrt_medv=np.sqrt(boston.MEDV)\n",
    "sqrt_medv.hist()"
   ]
  },
  {
   "cell_type": "code",
   "execution_count": 137,
   "id": "224d889d",
   "metadata": {},
   "outputs": [
    {
     "data": {
      "text/plain": [
       "NormaltestResult(statistic=20.487090826863067, pvalue=3.558645701429252e-05)"
      ]
     },
     "execution_count": 137,
     "metadata": {},
     "output_type": "execute_result"
    }
   ],
   "source": [
    "normaltest(sqrt_medv)"
   ]
  },
  {
   "cell_type": "code",
   "execution_count": 141,
   "id": "4f4e9d50",
   "metadata": {},
   "outputs": [],
   "source": [
    "#BOX COX TRASNFORMATION\n",
    "from scipy.stats import boxcox\n",
    "\n",
    "bc_results=boxcox(boston.MEDV)\n",
    "boxcox_medv=bc_results[0]\n",
    "lambda_val=bc_results[1]"
   ]
  },
  {
   "cell_type": "code",
   "execution_count": 149,
   "id": "3c456afb",
   "metadata": {},
   "outputs": [
    {
     "name": "stdout",
     "output_type": "stream",
     "text": [
      "[21.6 34.7 33.4 36.2 28.7 22.9 27.1 16.5 18.9]\n"
     ]
    },
    {
     "data": {
      "text/plain": [
       "array([4.36558166, 5.33694273, 5.25495447, 5.42860689, 4.93592663,\n",
       "       4.48001683, 4.81796329, 3.85654088, 4.10949441])"
      ]
     },
     "execution_count": 149,
     "metadata": {},
     "output_type": "execute_result"
    }
   ],
   "source": [
    "#BEFORE\n",
    "print(boston.MEDV[1:10].values)\n",
    "\n",
    "#AFTER TRANSFORMATION\n",
    "#SEE FEW TRANSFORMED (FIRST 10)\n",
    "boxcox_medv[1:10]"
   ]
  },
  {
   "cell_type": "code",
   "execution_count": 143,
   "id": "984f83b1",
   "metadata": {},
   "outputs": [
    {
     "data": {
      "text/plain": [
       "0.2166209012915364"
      ]
     },
     "execution_count": 143,
     "metadata": {},
     "output_type": "execute_result"
    }
   ],
   "source": [
    "lambda_val"
   ]
  },
  {
   "cell_type": "code",
   "execution_count": 151,
   "id": "09a990d0",
   "metadata": {},
   "outputs": [
    {
     "data": {
      "text/plain": [
       "(array([  4.,  15.,  17.,  49.,  68., 151.,  99.,  50.,  23.,  30.]),\n",
       " array([1.92564954, 2.3487372 , 2.77182485, 3.1949125 , 3.61800016,\n",
       "        4.04108781, 4.46417546, 4.88726311, 5.31035077, 5.73343842,\n",
       "        6.15652607]),\n",
       " <BarContainer object of 10 artists>)"
      ]
     },
     "execution_count": 151,
     "metadata": {},
     "output_type": "execute_result"
    },
    {
     "data": {
      "image/png": "[encoded data removed]",
      "text/plain": [
       "<Figure size 432x288 with 1 Axes>"
      ]
     },
     "metadata": {
      "needs_background": "light"
     },
     "output_type": "display_data"
    }
   ],
   "source": [
    "plt.hist(boxcox_medv)"
   ]
  },
  {
   "cell_type": "code",
   "execution_count": 153,
   "id": "99360785",
   "metadata": {},
   "outputs": [
    {
     "data": {
      "text/plain": [
       "NormaltestResult(statistic=4.513528775533045, pvalue=0.1046886692817602)"
      ]
     },
     "execution_count": 153,
     "metadata": {},
     "output_type": "execute_result"
    }
   ],
   "source": [
    "normaltest(boxcox_medv)\n",
    "#pvalue ABOVE 0.5"
   ]
  },
  {
   "cell_type": "markdown",
   "id": "c621ae3d",
   "metadata": {},
   "source": [
    "# TESTING REGRESSION"
   ]
  },
  {
   "cell_type": "code",
   "execution_count": 154,
   "id": "a1d86328",
   "metadata": {},
   "outputs": [],
   "source": [
    "from sklearn.linear_model import LinearRegression\n",
    "from sklearn.metrics import r2_score\n",
    "from sklearn.model_selection import train_test_split\n",
    "from sklearn.preprocessing import (StandardScaler,PolynomialFeatures)"
   ]
  },
  {
   "cell_type": "code",
   "execution_count": 157,
   "id": "c80b62ce",
   "metadata": {},
   "outputs": [
    {
     "data": {
      "text/plain": [
       "LinearRegression()"
      ]
     },
     "execution_count": 157,
     "metadata": {},
     "output_type": "execute_result"
    }
   ],
   "source": [
    "lr=LinearRegression()\n",
    "lr"
   ]
  },
  {
   "cell_type": "code",
   "execution_count": 161,
   "id": "5c28486f",
   "metadata": {},
   "outputs": [
    {
     "data": {
      "text/html": [
       "<div>\n",
       "<style scoped>\n",
       "    .dataframe tbody tr th:only-of-type {\n",
       "        vertical-align: middle;\n",
       "    }\n",
       "\n",
       "    .dataframe tbody tr th {\n",
       "        vertical-align: top;\n",
       "    }\n",
       "\n",
       "    .dataframe thead th {\n",
       "        text-align: right;\n",
       "    }\n",
       "</style>\n",
       "<table border=\"1\" class=\"dataframe\">\n",
       "  <thead>\n",
       "    <tr style=\"text-align: right;\">\n",
       "      <th></th>\n",
       "      <th>CRIM</th>\n",
       "      <th>ZN</th>\n",
       "      <th>INDUS</th>\n",
       "      <th>CHAS</th>\n",
       "      <th>NOX</th>\n",
       "      <th>RM</th>\n",
       "      <th>AGE</th>\n",
       "      <th>DIS</th>\n",
       "      <th>RAD</th>\n",
       "      <th>TAX</th>\n",
       "      <th>PTRATIO</th>\n",
       "      <th>B</th>\n",
       "      <th>LSTAT</th>\n",
       "      <th>MEDV</th>\n",
       "    </tr>\n",
       "  </thead>\n",
       "  <tbody>\n",
       "    <tr>\n",
       "      <th>0</th>\n",
       "      <td>0.00632</td>\n",
       "      <td>18.0</td>\n",
       "      <td>2.31</td>\n",
       "      <td>0.0</td>\n",
       "      <td>0.538</td>\n",
       "      <td>6.575</td>\n",
       "      <td>65.2</td>\n",
       "      <td>4.0900</td>\n",
       "      <td>1.0</td>\n",
       "      <td>296.0</td>\n",
       "      <td>15.3</td>\n",
       "      <td>396.90</td>\n",
       "      <td>4.98</td>\n",
       "      <td>24.0</td>\n",
       "    </tr>\n",
       "    <tr>\n",
       "      <th>1</th>\n",
       "      <td>0.02731</td>\n",
       "      <td>0.0</td>\n",
       "      <td>7.07</td>\n",
       "      <td>0.0</td>\n",
       "      <td>0.469</td>\n",
       "      <td>6.421</td>\n",
       "      <td>78.9</td>\n",
       "      <td>4.9671</td>\n",
       "      <td>2.0</td>\n",
       "      <td>242.0</td>\n",
       "      <td>17.8</td>\n",
       "      <td>396.90</td>\n",
       "      <td>9.14</td>\n",
       "      <td>21.6</td>\n",
       "    </tr>\n",
       "    <tr>\n",
       "      <th>2</th>\n",
       "      <td>0.02729</td>\n",
       "      <td>0.0</td>\n",
       "      <td>7.07</td>\n",
       "      <td>0.0</td>\n",
       "      <td>0.469</td>\n",
       "      <td>7.185</td>\n",
       "      <td>61.1</td>\n",
       "      <td>4.9671</td>\n",
       "      <td>2.0</td>\n",
       "      <td>242.0</td>\n",
       "      <td>17.8</td>\n",
       "      <td>392.83</td>\n",
       "      <td>4.03</td>\n",
       "      <td>34.7</td>\n",
       "    </tr>\n",
       "    <tr>\n",
       "      <th>3</th>\n",
       "      <td>0.03237</td>\n",
       "      <td>0.0</td>\n",
       "      <td>2.18</td>\n",
       "      <td>0.0</td>\n",
       "      <td>0.458</td>\n",
       "      <td>6.998</td>\n",
       "      <td>45.8</td>\n",
       "      <td>6.0622</td>\n",
       "      <td>3.0</td>\n",
       "      <td>222.0</td>\n",
       "      <td>18.7</td>\n",
       "      <td>394.63</td>\n",
       "      <td>2.94</td>\n",
       "      <td>33.4</td>\n",
       "    </tr>\n",
       "    <tr>\n",
       "      <th>4</th>\n",
       "      <td>0.06905</td>\n",
       "      <td>0.0</td>\n",
       "      <td>2.18</td>\n",
       "      <td>0.0</td>\n",
       "      <td>0.458</td>\n",
       "      <td>7.147</td>\n",
       "      <td>54.2</td>\n",
       "      <td>6.0622</td>\n",
       "      <td>3.0</td>\n",
       "      <td>222.0</td>\n",
       "      <td>18.7</td>\n",
       "      <td>396.90</td>\n",
       "      <td>5.33</td>\n",
       "      <td>36.2</td>\n",
       "    </tr>\n",
       "    <tr>\n",
       "      <th>...</th>\n",
       "      <td>...</td>\n",
       "      <td>...</td>\n",
       "      <td>...</td>\n",
       "      <td>...</td>\n",
       "      <td>...</td>\n",
       "      <td>...</td>\n",
       "      <td>...</td>\n",
       "      <td>...</td>\n",
       "      <td>...</td>\n",
       "      <td>...</td>\n",
       "      <td>...</td>\n",
       "      <td>...</td>\n",
       "      <td>...</td>\n",
       "      <td>...</td>\n",
       "    </tr>\n",
       "    <tr>\n",
       "      <th>501</th>\n",
       "      <td>0.06263</td>\n",
       "      <td>0.0</td>\n",
       "      <td>11.93</td>\n",
       "      <td>0.0</td>\n",
       "      <td>0.573</td>\n",
       "      <td>6.593</td>\n",
       "      <td>69.1</td>\n",
       "      <td>2.4786</td>\n",
       "      <td>1.0</td>\n",
       "      <td>273.0</td>\n",
       "      <td>21.0</td>\n",
       "      <td>391.99</td>\n",
       "      <td>9.67</td>\n",
       "      <td>22.4</td>\n",
       "    </tr>\n",
       "    <tr>\n",
       "      <th>502</th>\n",
       "      <td>0.04527</td>\n",
       "      <td>0.0</td>\n",
       "      <td>11.93</td>\n",
       "      <td>0.0</td>\n",
       "      <td>0.573</td>\n",
       "      <td>6.120</td>\n",
       "      <td>76.7</td>\n",
       "      <td>2.2875</td>\n",
       "      <td>1.0</td>\n",
       "      <td>273.0</td>\n",
       "      <td>21.0</td>\n",
       "      <td>396.90</td>\n",
       "      <td>9.08</td>\n",
       "      <td>20.6</td>\n",
       "    </tr>\n",
       "    <tr>\n",
       "      <th>503</th>\n",
       "      <td>0.06076</td>\n",
       "      <td>0.0</td>\n",
       "      <td>11.93</td>\n",
       "      <td>0.0</td>\n",
       "      <td>0.573</td>\n",
       "      <td>6.976</td>\n",
       "      <td>91.0</td>\n",
       "      <td>2.1675</td>\n",
       "      <td>1.0</td>\n",
       "      <td>273.0</td>\n",
       "      <td>21.0</td>\n",
       "      <td>396.90</td>\n",
       "      <td>5.64</td>\n",
       "      <td>23.9</td>\n",
       "    </tr>\n",
       "    <tr>\n",
       "      <th>504</th>\n",
       "      <td>0.10959</td>\n",
       "      <td>0.0</td>\n",
       "      <td>11.93</td>\n",
       "      <td>0.0</td>\n",
       "      <td>0.573</td>\n",
       "      <td>6.794</td>\n",
       "      <td>89.3</td>\n",
       "      <td>2.3889</td>\n",
       "      <td>1.0</td>\n",
       "      <td>273.0</td>\n",
       "      <td>21.0</td>\n",
       "      <td>393.45</td>\n",
       "      <td>6.48</td>\n",
       "      <td>22.0</td>\n",
       "    </tr>\n",
       "    <tr>\n",
       "      <th>505</th>\n",
       "      <td>0.04741</td>\n",
       "      <td>0.0</td>\n",
       "      <td>11.93</td>\n",
       "      <td>0.0</td>\n",
       "      <td>0.573</td>\n",
       "      <td>6.030</td>\n",
       "      <td>80.8</td>\n",
       "      <td>2.5050</td>\n",
       "      <td>1.0</td>\n",
       "      <td>273.0</td>\n",
       "      <td>21.0</td>\n",
       "      <td>396.90</td>\n",
       "      <td>7.88</td>\n",
       "      <td>11.9</td>\n",
       "    </tr>\n",
       "  </tbody>\n",
       "</table>\n",
       "<p>506 rows × 14 columns</p>\n",
       "</div>"
      ],
      "text/plain": [
       "        CRIM    ZN  INDUS  CHAS    NOX     RM   AGE     DIS  RAD    TAX  \\\n",
       "0    0.00632  18.0   2.31   0.0  0.538  6.575  65.2  4.0900  1.0  296.0   \n",
       "1    0.02731   0.0   7.07   0.0  0.469  6.421  78.9  4.9671  2.0  242.0   \n",
       "2    0.02729   0.0   7.07   0.0  0.469  7.185  61.1  4.9671  2.0  242.0   \n",
       "3    0.03237   0.0   2.18   0.0  0.458  6.998  45.8  6.0622  3.0  222.0   \n",
       "4    0.06905   0.0   2.18   0.0  0.458  7.147  54.2  6.0622  3.0  222.0   \n",
       "..       ...   ...    ...   ...    ...    ...   ...     ...  ...    ...   \n",
       "501  0.06263   0.0  11.93   0.0  0.573  6.593  69.1  2.4786  1.0  273.0   \n",
       "502  0.04527   0.0  11.93   0.0  0.573  6.120  76.7  2.2875  1.0  273.0   \n",
       "503  0.06076   0.0  11.93   0.0  0.573  6.976  91.0  2.1675  1.0  273.0   \n",
       "504  0.10959   0.0  11.93   0.0  0.573  6.794  89.3  2.3889  1.0  273.0   \n",
       "505  0.04741   0.0  11.93   0.0  0.573  6.030  80.8  2.5050  1.0  273.0   \n",
       "\n",
       "     PTRATIO       B  LSTAT  MEDV  \n",
       "0       15.3  396.90   4.98  24.0  \n",
       "1       17.8  396.90   9.14  21.6  \n",
       "2       17.8  392.83   4.03  34.7  \n",
       "3       18.7  394.63   2.94  33.4  \n",
       "4       18.7  396.90   5.33  36.2  \n",
       "..       ...     ...    ...   ...  \n",
       "501     21.0  391.99   9.67  22.4  \n",
       "502     21.0  396.90   9.08  20.6  \n",
       "503     21.0  396.90   5.64  23.9  \n",
       "504     21.0  393.45   6.48  22.0  \n",
       "505     21.0  396.90   7.88  11.9  \n",
       "\n",
       "[506 rows x 14 columns]"
      ]
     },
     "execution_count": 161,
     "metadata": {},
     "output_type": "execute_result"
    }
   ],
   "source": [
    "#GET A FRESH COPY OF DATA AGAIN\n",
    "boston=pd.DataFrame(data=data_all, columns=names_all)\n",
    "boston"
   ]
  },
  {
   "cell_type": "markdown",
   "id": "19cccbba",
   "metadata": {},
   "source": [
    "# Create X and y"
   ]
  },
  {
   "cell_type": "code",
   "execution_count": 165,
   "id": "b1fe1970",
   "metadata": {},
   "outputs": [
    {
     "data": {
      "text/html": [
       "<div>\n",
       "<style scoped>\n",
       "    .dataframe tbody tr th:only-of-type {\n",
       "        vertical-align: middle;\n",
       "    }\n",
       "\n",
       "    .dataframe tbody tr th {\n",
       "        vertical-align: top;\n",
       "    }\n",
       "\n",
       "    .dataframe thead th {\n",
       "        text-align: right;\n",
       "    }\n",
       "</style>\n",
       "<table border=\"1\" class=\"dataframe\">\n",
       "  <thead>\n",
       "    <tr style=\"text-align: right;\">\n",
       "      <th></th>\n",
       "      <th>CRIM</th>\n",
       "      <th>ZN</th>\n",
       "      <th>INDUS</th>\n",
       "      <th>CHAS</th>\n",
       "      <th>NOX</th>\n",
       "      <th>RM</th>\n",
       "      <th>AGE</th>\n",
       "      <th>DIS</th>\n",
       "      <th>RAD</th>\n",
       "      <th>TAX</th>\n",
       "      <th>PTRATIO</th>\n",
       "      <th>B</th>\n",
       "      <th>LSTAT</th>\n",
       "    </tr>\n",
       "  </thead>\n",
       "  <tbody>\n",
       "    <tr>\n",
       "      <th>0</th>\n",
       "      <td>0.00632</td>\n",
       "      <td>18.0</td>\n",
       "      <td>2.31</td>\n",
       "      <td>0.0</td>\n",
       "      <td>0.538</td>\n",
       "      <td>6.575</td>\n",
       "      <td>65.2</td>\n",
       "      <td>4.0900</td>\n",
       "      <td>1.0</td>\n",
       "      <td>296.0</td>\n",
       "      <td>15.3</td>\n",
       "      <td>396.9</td>\n",
       "      <td>4.98</td>\n",
       "    </tr>\n",
       "    <tr>\n",
       "      <th>1</th>\n",
       "      <td>0.02731</td>\n",
       "      <td>0.0</td>\n",
       "      <td>7.07</td>\n",
       "      <td>0.0</td>\n",
       "      <td>0.469</td>\n",
       "      <td>6.421</td>\n",
       "      <td>78.9</td>\n",
       "      <td>4.9671</td>\n",
       "      <td>2.0</td>\n",
       "      <td>242.0</td>\n",
       "      <td>17.8</td>\n",
       "      <td>396.9</td>\n",
       "      <td>9.14</td>\n",
       "    </tr>\n",
       "  </tbody>\n",
       "</table>\n",
       "</div>"
      ],
      "text/plain": [
       "      CRIM    ZN  INDUS  CHAS    NOX     RM   AGE     DIS  RAD    TAX  \\\n",
       "0  0.00632  18.0   2.31   0.0  0.538  6.575  65.2  4.0900  1.0  296.0   \n",
       "1  0.02731   0.0   7.07   0.0  0.469  6.421  78.9  4.9671  2.0  242.0   \n",
       "\n",
       "   PTRATIO      B  LSTAT  \n",
       "0     15.3  396.9   4.98  \n",
       "1     17.8  396.9   9.14  "
      ]
     },
     "execution_count": 165,
     "metadata": {},
     "output_type": "execute_result"
    }
   ],
   "source": [
    "y_col=\"MEDV\" #target/ dependent variable\n",
    "X=boston.drop(y_col,axis=1)\n",
    "X.head(2)"
   ]
  },
  {
   "cell_type": "code",
   "execution_count": 207,
   "id": "0981d7c7",
   "metadata": {},
   "outputs": [],
   "source": [
    "y=boston[y_col]"
   ]
  },
  {
   "cell_type": "code",
   "execution_count": 208,
   "id": "e3b5fe33",
   "metadata": {},
   "outputs": [
    {
     "data": {
      "text/plain": [
       "0    24.0\n",
       "1    21.6\n",
       "Name: MEDV, dtype: float64"
      ]
     },
     "execution_count": 208,
     "metadata": {},
     "output_type": "execute_result"
    }
   ],
   "source": [
    "y.head(2)"
   ]
  },
  {
   "cell_type": "code",
   "execution_count": 217,
   "id": "ffc5e13d",
   "metadata": {},
   "outputs": [
    {
     "data": {
      "text/html": [
       "<div>\n",
       "<style scoped>\n",
       "    .dataframe tbody tr th:only-of-type {\n",
       "        vertical-align: middle;\n",
       "    }\n",
       "\n",
       "    .dataframe tbody tr th {\n",
       "        vertical-align: top;\n",
       "    }\n",
       "\n",
       "    .dataframe thead th {\n",
       "        text-align: right;\n",
       "    }\n",
       "</style>\n",
       "<table border=\"1\" class=\"dataframe\">\n",
       "  <thead>\n",
       "    <tr style=\"text-align: right;\">\n",
       "      <th></th>\n",
       "      <th>MEDV</th>\n",
       "    </tr>\n",
       "  </thead>\n",
       "  <tbody>\n",
       "    <tr>\n",
       "      <th>0</th>\n",
       "      <td>24.0</td>\n",
       "    </tr>\n",
       "    <tr>\n",
       "      <th>1</th>\n",
       "      <td>21.6</td>\n",
       "    </tr>\n",
       "  </tbody>\n",
       "</table>\n",
       "</div>"
      ],
      "text/plain": [
       "   MEDV\n",
       "0  24.0\n",
       "1  21.6"
      ]
     },
     "execution_count": 217,
     "metadata": {},
     "output_type": "execute_result"
    }
   ],
   "source": [
    "#CONVERT SERIES TO DATAFRAME\n",
    "y=pd.DataFrame(y)\n",
    "y.head(2)"
   ]
  },
  {
   "cell_type": "code",
   "execution_count": 218,
   "id": "3587b7a9",
   "metadata": {},
   "outputs": [],
   "source": [
    "#CREATE POLYNOMIAL FEATURES\n",
    "\n",
    "pf=PolynomialFeatures(degree=2,include_bias=False)\n",
    "X_pf=pf.fit_transform(X)"
   ]
  },
  {
   "cell_type": "code",
   "execution_count": 219,
   "id": "c043f6ed",
   "metadata": {},
   "outputs": [
    {
     "data": {
      "text/plain": [
       "(506, 104)"
      ]
     },
     "execution_count": 219,
     "metadata": {},
     "output_type": "execute_result"
    }
   ],
   "source": [
    "X_pf.shape"
   ]
  },
  {
   "cell_type": "markdown",
   "id": "40446416",
   "metadata": {},
   "source": [
    "# TRAIN AND TEST SPLIT"
   ]
  },
  {
   "cell_type": "code",
   "execution_count": 220,
   "id": "683ba0fa",
   "metadata": {},
   "outputs": [],
   "source": [
    "X_train,X_test,y_train,y_test=train_test_split(X_pf,y,test_size=0.3,random_state=72018)"
   ]
  },
  {
   "cell_type": "code",
   "execution_count": 221,
   "id": "f9ec0323",
   "metadata": {},
   "outputs": [
    {
     "data": {
      "text/plain": [
       "array([[-0.0124666 , -0.48401192,  1.03845365, ..., -0.23484375,\n",
       "        -0.91219534, -0.7707125 ],\n",
       "       [-0.41008423,  0.38254628, -1.1262321 , ...,  0.43979833,\n",
       "        -0.94167211, -0.80076846],\n",
       "       [-0.40010802, -0.48401192, -0.14721377, ...,  0.49113324,\n",
       "         0.86132485,  0.24960827],\n",
       "       ...,\n",
       "       [-0.39800149, -0.48401192, -0.60154862, ...,  0.27504228,\n",
       "        -0.77435532, -0.7456282 ],\n",
       "       [-0.38835496,  0.05758695, -0.46085138, ...,  0.44525464,\n",
       "         1.49796212,  0.92512164],\n",
       "       [-0.37704727, -0.48401192,  1.59391465, ...,  0.18154948,\n",
       "         0.85751868,  0.34889333]])"
      ]
     },
     "execution_count": 221,
     "metadata": {},
     "output_type": "execute_result"
    }
   ],
   "source": [
    "#FIT STANDARD SCALER ON X_TRAIN as before\n",
    "std_scaler=StandardScaler()\n",
    "X_train_s=std_scaler.fit_transform(X_train)\n",
    "X_train_s"
   ]
  },
  {
   "cell_type": "markdown",
   "id": "c7505ccc",
   "metadata": {},
   "source": [
    "# Apply the aprropriate transformation to use in target variable (we did it earlier)"
   ]
  },
  {
   "cell_type": "code",
   "execution_count": 259,
   "id": "0e9d11a7",
   "metadata": {},
   "outputs": [],
   "source": [
    "bc_results=boxcox(y_train.MEDV)\n",
    "lamda_2=bc_results[1]\n",
    "y_train_bc=bc_results[0]"
   ]
  },
  {
   "cell_type": "code",
   "execution_count": 260,
   "id": "e1940cd1",
   "metadata": {},
   "outputs": [
    {
     "name": "stdout",
     "output_type": "stream",
     "text": [
      "[6.0629177  4.51310411 4.81957899 4.95725428 5.77277497 5.41197088\n",
      " 5.75640624 3.72665146 4.94686892]\n",
      "0.2751714409758365\n"
     ]
    }
   ],
   "source": [
    "print(y_train_bc[1:10])\n",
    "print(lamda_2)"
   ]
  },
  {
   "cell_type": "code",
   "execution_count": null,
   "id": "fd2fadda",
   "metadata": {},
   "outputs": [],
   "source": [
    "#FIT WITH LINEAR REGRESSION"
   ]
  },
  {
   "cell_type": "code",
   "execution_count": 235,
   "id": "d82da797",
   "metadata": {},
   "outputs": [
    {
     "data": {
      "text/plain": [
       "LinearRegression()"
      ]
     },
     "execution_count": 235,
     "metadata": {},
     "output_type": "execute_result"
    }
   ],
   "source": [
    "lr.fit(X_train_s,y_train_bc)"
   ]
  },
  {
   "cell_type": "code",
   "execution_count": 237,
   "id": "713be17d",
   "metadata": {},
   "outputs": [],
   "source": [
    "X_test_s=std_scaler.transform(X_test)\n",
    "y_pred_bc=lr.predict(X_test_s)"
   ]
  },
  {
   "cell_type": "code",
   "execution_count": 239,
   "id": "f43919e3",
   "metadata": {},
   "outputs": [
    {
     "data": {
      "text/plain": [
       "(152,)"
      ]
     },
     "execution_count": 239,
     "metadata": {},
     "output_type": "execute_result"
    }
   ],
   "source": [
    "y_pred_bc.shape"
   ]
  },
  {
   "cell_type": "code",
   "execution_count": 241,
   "id": "f3d9d43c",
   "metadata": {},
   "outputs": [
    {
     "data": {
      "text/plain": [
       "(152, 104)"
      ]
     },
     "execution_count": 241,
     "metadata": {},
     "output_type": "execute_result"
    }
   ],
   "source": [
    "X_test_s.shape"
   ]
  },
  {
   "cell_type": "code",
   "execution_count": 245,
   "id": "7f4d5c88",
   "metadata": {},
   "outputs": [
    {
     "data": {
      "text/plain": [
       "502    20.6\n",
       "127    16.2\n",
       "390    15.1\n",
       "303    33.1\n",
       "277    33.1\n",
       "       ... \n",
       "433    14.3\n",
       "505    11.9\n",
       "53     23.4\n",
       "82     24.8\n",
       "377    13.3\n",
       "Name: MEDV, Length: 152, dtype: float64"
      ]
     },
     "execution_count": 245,
     "metadata": {},
     "output_type": "execute_result"
    }
   ],
   "source": [
    "y_test.MEDV"
   ]
  },
  {
   "cell_type": "code",
   "execution_count": 246,
   "id": "47d6b116",
   "metadata": {},
   "outputs": [
    {
     "data": {
      "text/plain": [
       "array([4.43920316, 4.16230299, 4.14903773, 5.72770375, 5.70362608,\n",
       "       6.59865445, 4.18842601, 4.77415222, 4.68282566, 4.85108878,\n",
       "       6.82748198, 3.86236699, 5.0643167 , 4.31536775, 6.91107238,\n",
       "       4.93538901, 4.64299542, 5.84297841, 5.24960436, 5.44823381,\n",
       "       3.98464025, 4.88299011, 4.19919967, 3.59736013, 5.2309719 ,\n",
       "       5.30478058, 5.85592444, 4.78820348, 4.78846728, 6.78622305,\n",
       "       3.36299121, 4.39751616, 4.29381841, 6.9642437 , 4.49873355,\n",
       "       5.51107039, 4.79092744, 5.61456675, 3.04824493, 5.35252088,\n",
       "       3.34764987, 3.97589975, 5.14213658, 4.37539217, 5.07041151,\n",
       "       6.31192606, 4.90476787, 5.25799412, 5.69133946, 4.21362253,\n",
       "       5.2252357 , 5.49371642, 4.38650851, 3.95353734, 4.16951912,\n",
       "       2.75465746, 4.06367514, 3.01030741, 4.5542641 , 4.8090537 ,\n",
       "       5.74517281, 3.26233918, 3.5862807 , 6.17670312, 4.23677257,\n",
       "       5.81985343, 3.41296646, 3.83284203, 4.98192021, 5.73417989,\n",
       "       5.20709227, 5.2224684 , 5.25901124, 5.43662547, 3.8263134 ,\n",
       "       3.54227896, 5.39503706, 4.46815491, 4.3752375 , 4.43397526,\n",
       "       4.26857806, 4.86974534, 5.83795891, 4.04151355, 3.51858119,\n",
       "       3.1923357 , 4.62263543, 6.02926386, 4.7009583 , 6.75024002,\n",
       "       4.39142328, 7.09519245, 3.63633109, 6.84266201, 5.94655295,\n",
       "       4.85824664, 3.31982381, 3.07049243, 4.97129982, 5.04765573,\n",
       "       1.99045119, 3.36771013, 3.93454864, 5.25195111, 5.72084992,\n",
       "       5.41600891, 4.6339003 , 4.06064081, 3.90652671, 5.47241751,\n",
       "       6.34006908, 4.62295396, 5.78807659, 4.98261655, 4.79651198,\n",
       "       5.74907439, 6.62391016, 3.79310717, 5.26601387, 5.05936907,\n",
       "       5.27005544, 4.05674121, 4.90100131, 4.05584843, 5.22049234,\n",
       "       5.40283716, 4.578356  , 4.22107366, 4.77645049, 4.8113669 ,\n",
       "       5.2060228 , 4.23331845, 4.98686063, 4.95300337, 4.87192351,\n",
       "       4.81043257, 3.21302163, 3.72381938, 5.6528538 , 4.83102518,\n",
       "       3.61794231, 4.97683061, 4.81408485, 4.45751093, 5.63842481,\n",
       "       6.18962525, 2.45986308, 4.31803429, 4.33344344, 4.90983086,\n",
       "       5.18275029, 3.47798262])"
      ]
     },
     "execution_count": 246,
     "metadata": {},
     "output_type": "execute_result"
    }
   ],
   "source": [
    "y_pred_bc"
   ]
  },
  {
   "cell_type": "markdown",
   "id": "64849f85",
   "metadata": {},
   "source": [
    "# INVERSE TRANFORMATION"
   ]
  },
  {
   "cell_type": "code",
   "execution_count": 249,
   "id": "bcd095c3",
   "metadata": {},
   "outputs": [],
   "source": [
    "from scipy.special import inv_boxcox"
   ]
  },
  {
   "cell_type": "code",
   "execution_count": 253,
   "id": "41e2d07d",
   "metadata": {},
   "outputs": [],
   "source": [
    "bc_result=boxcox(boston.MEDV)\n",
    "boxcov_medv=bc_result[0]\n",
    "lamda=bc_result[1]"
   ]
  },
  {
   "cell_type": "code",
   "execution_count": 258,
   "id": "dc2328c4",
   "metadata": {},
   "outputs": [
    {
     "data": {
      "text/plain": [
       "array([24. , 21.6, 34.7, 33.4, 36.2, 28.7, 22.9, 27.1, 16.5, 18.9])"
      ]
     },
     "execution_count": 258,
     "metadata": {},
     "output_type": "execute_result"
    }
   ],
   "source": [
    "#lets see the first 10\n",
    "inv_boxcox(boxcov_medv,lamda)[:10]"
   ]
  },
  {
   "cell_type": "code",
   "execution_count": 262,
   "id": "724304df",
   "metadata": {},
   "outputs": [
    {
     "data": {
      "text/plain": [
       "0.8794001851338588"
      ]
     },
     "execution_count": 262,
     "metadata": {},
     "output_type": "execute_result"
    }
   ],
   "source": [
    "y_pred_tran=inv_boxcox(y_pred_bc,lamda_2)\n",
    "r2_score(y_pred_tran,y_test)"
   ]
  },
  {
   "cell_type": "markdown",
   "id": "196bc989",
   "metadata": {},
   "source": [
    "# Determine if R^2 of a LinearRegression without the box cox transformation higer or lower"
   ]
  },
  {
   "cell_type": "code",
   "execution_count": 266,
   "id": "0e3d75e5",
   "metadata": {},
   "outputs": [
    {
     "data": {
      "text/plain": [
       "0.8555202098064159"
      ]
     },
     "execution_count": 266,
     "metadata": {},
     "output_type": "execute_result"
    }
   ],
   "source": [
    "lr=LinearRegression()\n",
    "lr.fit(X_train_s,y_train)\n",
    "lr_pred=lr.predict(X_test_s)\n",
    "r2_score(lr_pred,y_test)"
   ]
  }
 ],
 "metadata": {
  "kernelspec": {
   "display_name": "Python 3",
   "language": "python",
   "name": "python3"
  },
  "language_info": {
   "codemirror_mode": {
    "name": "ipython",
    "version": 3
   },
   "file_extension": ".py",
   "mimetype": "text/x-python",
   "name": "python",
   "nbconvert_exporter": "python",
   "pygments_lexer": "ipython3",
   "version": "3.9.5"
  }
 },
 "nbformat": 4,
 "nbformat_minor": 5
}
