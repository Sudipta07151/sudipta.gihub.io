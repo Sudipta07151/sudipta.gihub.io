{
 "cells": [
  {
   "cell_type": "code",
   "execution_count": 5,
   "id": "9703f1a1",
   "metadata": {},
   "outputs": [
    {
     "name": "stdout",
     "output_type": "stream",
     "text": [
      "Populating the interactive namespace from numpy and matplotlib\n"
     ]
    }
   ],
   "source": [
    "import matplotlib.pyplot as plt\n",
    "import numpy as np\n",
    "from scipy import stats\n",
    "import math\n",
    "\n",
    "%config InlineBackend.figure_formats=['svg']\n",
    "\n",
    "%pylab inline\n",
    "%matplotlib inline\n"
   ]
  },
  {
   "cell_type": "markdown",
   "id": "249a129b",
   "metadata": {},
   "source": [
    "# Null Hypothesis\n",
    "\n",
    "I claim that I can use mystical abilities to predict the outcome of coin flips.\n",
    "\n",
    "You don't think I can.\n",
    "\n",
    "How can we test it?\n",
    "\n",
    "We do an experiment in which I call 100 coin flips. I get 57 right.\n",
    "\n",
    "Am I special or not?\n"
   ]
  },
  {
   "cell_type": "raw",
   "id": "984f18be",
   "metadata": {},
   "source": [
    "Ho: Im not special; my true rate of prediction is 0.5(for a coin flip)\n",
    "Ha: My  rate of prediction is >0.5 \n",
    "\n",
    "test statistics: number of correct flips out of 100\n",
    "\n",
    "parameters n=100 p=0.5\n",
    "\n",
    "So if the null hypothesis is correct how likely I got or 57 more coin flips correct"
   ]
  },
  {
   "cell_type": "code",
   "execution_count": 13,
   "id": "353ffa80",
   "metadata": {},
   "outputs": [
    {
     "name": "stdout",
     "output_type": "stream",
     "text": [
      "9.67\n"
     ]
    }
   ],
   "source": [
    "from scipy.stats import binom\n",
    "\n",
    "prob=1-binom.cdf(56,100,0.5)\n",
    "print(round(prob*100,2))"
   ]
  },
  {
   "cell_type": "raw",
   "id": "039f85f8",
   "metadata": {},
   "source": [
    "The probability of getting 57 or more is about 9.7%. This is more than 5% so we cant reject the null hypothesis with a cofidence interval of 95% or alpha=0.05;"
   ]
  },
  {
   "cell_type": "code",
   "execution_count": 14,
   "id": "82550126",
   "metadata": {},
   "outputs": [
    {
     "name": "stdout",
     "output_type": "stream",
     "text": [
      "59.0\n"
     ]
    }
   ],
   "source": [
    "from scipy.stats import binom\n",
    "print(binom.ppf(0.95,100,0.5)+1)"
   ]
  },
  {
   "cell_type": "markdown",
   "id": "a6848108",
   "metadata": {},
   "source": [
    "# A More Specific Claim\n",
    "\n",
    "So far so good. What if instead I said, \"I'm not perfect, but I can predict coin tosses 60% of the time. Which is still good, which is still valuable.\"\n",
    "\n",
    "What do we do in this case? Sure, we can do exactly what we did earlier and when I predict 57 times, we can reject my claim.\n",
    "\n",
    "But what if I say, \"Wait a minute. I said 60 and I got 57, that sounds pretty good to me.\"\n",
    "\n",
    "Interpretation:\n",
    "> \"I happened to have a poor guessing day, and that's why my results aren't quite statistically significant!\"\n",
    "\n",
    "What do we say to that? The issue here is that there is no longer a single null hypothesis that we prove or disprove. Instead, **we have two competing hypotheses**:\n",
    "    * Hypothesis A: There is no predictive power\n",
    "    * Hypothesis B: There is a 60% predictive power\n",
    "\n",
    "Each is a normal curve, with one centered at 50% and the other at 60%."
   ]
  },
  {
   "cell_type": "code",
   "execution_count": null,
   "id": "89e1f313",
   "metadata": {},
   "outputs": [],
   "source": []
  },
  {
   "cell_type": "code",
   "execution_count": null,
   "id": "894f005d",
   "metadata": {},
   "outputs": [],
   "source": []
  },
  {
   "cell_type": "code",
   "execution_count": null,
   "id": "a228ce92",
   "metadata": {},
   "outputs": [],
   "source": []
  },
  {
   "cell_type": "code",
   "execution_count": null,
   "id": "40afd600",
   "metadata": {},
   "outputs": [],
   "source": []
  },
  {
   "cell_type": "code",
   "execution_count": null,
   "id": "d3d9b49c",
   "metadata": {},
   "outputs": [],
   "source": []
  },
  {
   "cell_type": "code",
   "execution_count": null,
   "id": "91508c68",
   "metadata": {},
   "outputs": [],
   "source": []
  }
 ],
 "metadata": {
  "kernelspec": {
   "display_name": "Python 3",
   "language": "python",
   "name": "python3"
  },
  "language_info": {
   "codemirror_mode": {
    "name": "ipython",
    "version": 3
   },
   "file_extension": ".py",
   "mimetype": "text/x-python",
   "name": "python",
   "nbconvert_exporter": "python",
   "pygments_lexer": "ipython3",
   "version": "3.9.5"
  }
 },
 "nbformat": 4,
 "nbformat_minor": 5
}
